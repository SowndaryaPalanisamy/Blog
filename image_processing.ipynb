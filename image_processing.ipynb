{
  "nbformat": 4,
  "nbformat_minor": 0,
  "metadata": {
    "colab": {
      "name": "image processing.ipynb",
      "provenance": [],
      "authorship_tag": "ABX9TyPgQjUxg3IH7bZFvHPiNRXf",
      "include_colab_link": true
    },
    "kernelspec": {
      "name": "python3",
      "display_name": "Python 3"
    }
  },
  "cells": [
    {
      "cell_type": "markdown",
      "metadata": {
        "id": "view-in-github",
        "colab_type": "text"
      },
      "source": [
        "<a href=\"https://colab.research.google.com/github/SowndaryaPalanisamy/Blog/blob/master/image_processing.ipynb\" target=\"_parent\"><img src=\"https://colab.research.google.com/assets/colab-badge.svg\" alt=\"Open In Colab\"/></a>"
      ]
    },
    {
      "cell_type": "code",
      "metadata": {
        "id": "P_K10z4nHSPE"
      },
      "source": [
        "import cv2\r\n",
        "flags = [i for i in dir(cv2) if i.startswith('COLOR_')]\r\n",
        "len(flags)\r\n",
        "\r\n",
        "flags[40]\r\n",
        "import matplotlib.pyplot as plt\r\n",
        "import numpy as np\r\n",
        "nemo = cv2.imread('y2.jpg')\r\n",
        "plt.imshow(nemo)\r\n",
        "plt.show()\r\n",
        "\r\n",
        "nemo = cv2.cvtColor(nemo, cv2.COLOR_BGR2RGB)\r\n",
        "plt.imshow(nemo)\r\n",
        "plt.show()\r\n",
        " hsv_nemo = cv2.cvtColor(nemo, cv2.COLOR_RGB2HSV)\r\n",
        " light_orange = (0,0,0)\r\n",
        "dark_orange = (170,174,148)\r\n",
        "mask = cv2.inRange(hsv_nemo, light_orange, dark_orange)\r\n",
        "result = cv2.bitwise_and(nemo, nemo, mask=mask)\r\n",
        "#plt.subplot(1, 3, 1)\r\n",
        "plt.imshow(nemo)\r\n",
        "plt.show()\r\n",
        "#plt.subplot(1, 3, 3)\r\n",
        "plt.imshow(mask, cmap=\"gray\")\r\n",
        "plt.show()\r\n",
        "#plt.subplot(1, 3, 2)\r\n",
        "plt.imshow(result)\r\n",
        "plt.show()"
      ],
      "execution_count": null,
      "outputs": []
    }
  ]
}